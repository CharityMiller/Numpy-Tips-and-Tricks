{
 "cells": [
  {
   "cell_type": "markdown",
   "metadata": {},
   "source": [
    "# Random Sampling with NumPy\n",
    "\n",
    "## Charity Miller\n",
    "\n",
    "Here will perform random sampling technichques on both list and arrays of random numbers.  "
   ]
  },
  {
   "cell_type": "markdown",
   "metadata": {},
   "source": [
    "Import libraries needed for sampling"
   ]
  },
  {
   "cell_type": "code",
   "execution_count": 6,
   "metadata": {},
   "outputs": [],
   "source": [
    "import random as rd\n",
    "import numpy as np"
   ]
  },
  {
   "cell_type": "markdown",
   "metadata": {},
   "source": [
    "Assign values to variable, in this case I assigned a list of strings to the variable\n",
    "(in this case Spring_2020)"
   ]
  },
  {
   "cell_type": "code",
   "execution_count": 10,
   "metadata": {},
   "outputs": [
    {
     "data": {
      "text/plain": [
       "['Data Visualization', 'Big Data', 'Military']"
      ]
     },
     "execution_count": 10,
     "metadata": {},
     "output_type": "execute_result"
    }
   ],
   "source": [
    "Spring_2020 = ['Data Science', 'Data Visualization', 'Big Data', 'Military', 'Marketing']\n",
    "\n",
    "#Use the syntax random.sample(variable,desired number of values returned)\n",
    "rd.sample(Spring_2020, 3)"
   ]
  },
  {
   "cell_type": "markdown",
   "metadata": {},
   "source": [
    "Using NumPy's random sample function will return random floats between the range of 0.0 and 1.0 in the specified shape"
   ]
  },
  {
   "cell_type": "code",
   "execution_count": 50,
   "metadata": {},
   "outputs": [
    {
     "data": {
      "text/plain": [
       "array([[[0.8975931 , 0.07071473, 0.51082172],\n",
       "        [0.67267038, 0.39958907, 0.21451413],\n",
       "        [0.78255665, 0.61488679, 0.18137731]],\n",
       "\n",
       "       [[0.35177318, 0.96889226, 0.07157854],\n",
       "        [0.97316918, 0.66268813, 0.74218467],\n",
       "        [0.31206998, 0.54912405, 0.19181797]],\n",
       "\n",
       "       [[0.28371224, 0.25606486, 0.5374854 ],\n",
       "        [0.81884992, 0.65673478, 0.6532287 ],\n",
       "        [0.55088988, 0.4156206 , 0.85984679]]])"
      ]
     },
     "execution_count": 50,
     "metadata": {},
     "output_type": "execute_result"
    }
   ],
   "source": [
    "np.random.random_sample((3,3,3))"
   ]
  },
  {
   "cell_type": "markdown",
   "metadata": {},
   "source": [
    "NumPy's permutation random sampling will return integers in the same sequence in random array order"
   ]
  },
  {
   "cell_type": "code",
   "execution_count": 54,
   "metadata": {
    "run_control": {
     "marked": true
    }
   },
   "outputs": [
    {
     "data": {
      "text/plain": [
       "array([[ 0,  1,  2,  3,  4,  5,  6],\n",
       "       [ 7,  8,  9, 10, 11, 12, 13],\n",
       "       [14, 15, 16, 17, 18, 19, 20]])"
      ]
     },
     "execution_count": 54,
     "metadata": {},
     "output_type": "execute_result"
    }
   ],
   "source": [
    "float_array = np.arange(21).reshape((3,7))\n",
    "np.random.permutation(float_array)"
   ]
  }
 ],
 "metadata": {
  "kernelspec": {
   "display_name": "Python 3",
   "language": "python",
   "name": "python3"
  },
  "language_info": {
   "codemirror_mode": {
    "name": "ipython",
    "version": 3
   },
   "file_extension": ".py",
   "mimetype": "text/x-python",
   "name": "python",
   "nbconvert_exporter": "python",
   "pygments_lexer": "ipython3",
   "version": "3.7.4"
  },
  "toc": {
   "base_numbering": 1,
   "nav_menu": {},
   "number_sections": false,
   "sideBar": true,
   "skip_h1_title": false,
   "title_cell": "Table of Contents",
   "title_sidebar": "Contents",
   "toc_cell": false,
   "toc_position": {},
   "toc_section_display": true,
   "toc_window_display": true
  }
 },
 "nbformat": 4,
 "nbformat_minor": 2
}
